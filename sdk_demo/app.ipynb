{
 "cells": [
  {
   "cell_type": "markdown",
   "id": "9495b6e4",
   "metadata": {},
   "source": [
    "## 启动服务"
   ]
  },
  {
   "cell_type": "code",
   "execution_count": 1,
   "id": "b8c7e6be",
   "metadata": {},
   "outputs": [],
   "source": [
    "import mag\n",
    "import time\n",
    "import json\n",
    "from IPython.display import display, Markdown\n",
    "import os\n",
    "import webbrowser\n",
    "import subprocess\n",
    "from IPython.display import Markdown, HTML, display"
   ]
  },
  {
   "cell_type": "code",
   "execution_count": 2,
   "id": "a8ce90b2",
   "metadata": {},
   "outputs": [
    {
     "name": "stdout",
     "output_type": "stream",
     "text": [
      "MAG服务器已启动 (PID: 10484), 日志: C:\\Users\\keta\\AppData\\Local\\Temp\\mag_sdk_logs\\mag_server.log\n"
     ]
    },
    {
     "data": {
      "text/plain": [
       "True"
      ]
     },
     "execution_count": 2,
     "metadata": {},
     "output_type": "execute_result"
    }
   ],
   "source": [
    "# 启动服务\n",
    "mag.start()"
   ]
  },
  {
   "cell_type": "code",
   "execution_count": null,
   "id": "3dbc7226",
   "metadata": {},
   "outputs": [],
   "source": [
    "# 关闭服务\n",
    "mag.shutdown()"
   ]
  },
  {
   "cell_type": "code",
   "execution_count": null,
   "id": "c58cc6b5",
   "metadata": {},
   "outputs": [],
   "source": [
    "is_running = mag.is_running()\n",
    "print(f\"服务运行状态: {is_running}\")"
   ]
  },
  {
   "cell_type": "markdown",
   "id": "a94a872f",
   "metadata": {},
   "source": [
    "## 模型管理"
   ]
  },
  {
   "cell_type": "markdown",
   "id": "9fd9ca34",
   "metadata": {},
   "source": [
    "#### （1）新增模型"
   ]
  },
  {
   "cell_type": "code",
   "execution_count": null,
   "id": "90a82b75",
   "metadata": {},
   "outputs": [],
   "source": [
    "new_model = {\n",
    "    \"name\": \"deepseek-chat\",\n",
    "    \"base_url\": \"https://api.deepseek.com\",\n",
    "    \"api_key\": \"\",\n",
    "    \"model\": \"deepseek-chat\"\n",
    "}\n",
    "mag.add_model(new_model)"
   ]
  },
  {
   "cell_type": "markdown",
   "id": "93ff3e20",
   "metadata": {},
   "source": [
    "#### （2）列出模型"
   ]
  },
  {
   "cell_type": "code",
   "execution_count": null,
   "id": "859d4c3c",
   "metadata": {},
   "outputs": [],
   "source": [
    "models = mag.list_models()\n",
    "print(f\"找到 {len(models)} 个模型\")\n",
    "for model in models:\n",
    "    print(f\"\\n模型名称：{model['name']} \\nBase_url：{model['base_url']}\\n\")"
   ]
  },
  {
   "cell_type": "markdown",
   "id": "323b3334",
   "metadata": {},
   "source": [
    "#### （3）更新模型"
   ]
  },
  {
   "cell_type": "code",
   "execution_count": null,
   "id": "8bf4b3c2",
   "metadata": {},
   "outputs": [],
   "source": [
    "# 更新模型\n",
    "updated_model = {\n",
    "    \"name\": \"deepseek-chat\",\n",
    "    \"base_url\": \"https://api.deepseek.com\",\n",
    "    \"api_key\": \"\",\n",
    "    \"model\": \"deepseek-chat\"\n",
    "}\n",
    "result = mag.update_model(\"deepseek-chat\", updated_model)\n",
    "print(result)"
   ]
  },
  {
   "cell_type": "markdown",
   "id": "fac16868",
   "metadata": {},
   "source": [
    "#### （4）删除模型"
   ]
  },
  {
   "cell_type": "code",
   "execution_count": null,
   "id": "09609073",
   "metadata": {},
   "outputs": [],
   "source": [
    "mag.delete_model(\"deepseek-chat\")"
   ]
  },
  {
   "cell_type": "markdown",
   "id": "9a3c6e1f",
   "metadata": {},
   "source": [
    "## MCP管理"
   ]
  },
  {
   "cell_type": "markdown",
   "id": "ce01d4c9",
   "metadata": {},
   "source": [
    "#### （1）增加/删除server"
   ]
  },
  {
   "cell_type": "code",
   "execution_count": null,
   "id": "7f999ba7",
   "metadata": {},
   "outputs": [],
   "source": [
    "# 增加server\n",
    "servers = {\"mcpServers\": {\n",
    "    \"fetch\": {\n",
    "      \"autoApprove\": [\n",
    "        \"fetch\"\n",
    "      ],\n",
    "      \"timeout\": 60,\n",
    "      \"command\": \"uvx\",\n",
    "      \"args\": [\n",
    "        \"mcp-server-fetch\"\n",
    "      ],\n",
    "      \"transportType\": \"stdio\"\n",
    "    }\n",
    "}}\n",
    "result = mag.add_server(servers=servers)\n",
    "print(json.dumps(result, indent=4, ensure_ascii=False))"
   ]
  },
  {
   "cell_type": "code",
   "execution_count": null,
   "id": "ad491c96",
   "metadata": {},
   "outputs": [],
   "source": [
    "# 删除server\n",
    "result = mag.remove_server([\"fetch\",\"memory\"])\n",
    "print(json.dumps(result, indent=4, ensure_ascii=False))"
   ]
  },
  {
   "cell_type": "markdown",
   "id": "a119cd26",
   "metadata": {},
   "source": [
    "#### （2）更新server配置文件（适合全面更新）"
   ]
  },
  {
   "cell_type": "code",
   "execution_count": null,
   "id": "c31988f3",
   "metadata": {},
   "outputs": [],
   "source": [
    "# 更新mcp server\n",
    "# 此举将会替代之前的配置文件\n",
    "config={\n",
    "  \"mcpServers\": {\n",
    "    \"memory\": {\n",
    "      \"autoApprove\": [],\n",
    "      \"timeout\": 60,\n",
    "      \"command\": \"docker\",\n",
    "      \"args\": [\n",
    "        \"run\",\n",
    "        \"-i\",\n",
    "        \"-v\",\n",
    "        \"claude-memory:/app/dist\",\n",
    "        \"--rm\",\n",
    "        \"mcp/memory\"\n",
    "      ],\n",
    "      \"transportType\": \"stdio\",\n",
    "    },\n",
    "    \"fetch\": {\n",
    "      \"autoApprove\": [\n",
    "        \"fetch\"\n",
    "      ],\n",
    "      \"timeout\": 60,\n",
    "      \"command\": \"uvx\",\n",
    "      \"args\": [\n",
    "        \"mcp-server-fetch\"\n",
    "      ],\n",
    "      \"transportType\": \"stdio\",\n",
    "    }\n",
    "  }\n",
    "}\n",
    "result = mag.update_mcp_config(config=config)\n",
    "print(json.dumps(result, indent=4, ensure_ascii=False))"
   ]
  },
  {
   "cell_type": "markdown",
   "id": "58fdc464",
   "metadata": {},
   "source": [
    "#### （3）连接mcp server"
   ]
  },
  {
   "cell_type": "code",
   "execution_count": null,
   "id": "7c328952",
   "metadata": {},
   "outputs": [],
   "source": [
    "# 连接单个\n",
    "mag.connect_mcp(\"fetch\")"
   ]
  },
  {
   "cell_type": "code",
   "execution_count": null,
   "id": "14ee6334",
   "metadata": {},
   "outputs": [],
   "source": [
    "# 连接所有\n",
    "result = mag.connect_mcp(\"all\")\n",
    "print(json.dumps(result, indent=2, ensure_ascii=False))"
   ]
  },
  {
   "cell_type": "markdown",
   "id": "84c75f9f",
   "metadata": {},
   "source": [
    "#### （4）获取MCP配置"
   ]
  },
  {
   "cell_type": "code",
   "execution_count": null,
   "id": "40f3ae96",
   "metadata": {},
   "outputs": [],
   "source": [
    "mcp_config = mag.get_mcp_config()\n",
    "print(json.dumps(mcp_config, indent=8, ensure_ascii=False))"
   ]
  },
  {
   "cell_type": "markdown",
   "id": "bad8e55b",
   "metadata": {},
   "source": [
    "#### （6）获取MCP状态/查看工具"
   ]
  },
  {
   "cell_type": "code",
   "execution_count": null,
   "id": "08d4fced",
   "metadata": {},
   "outputs": [],
   "source": [
    "mcp_status = mag.get_mcp_status()\n",
    "for server, status in mcp_status.items():\n",
    "    print(f\"\\n{server}: {'已连接' if status.get('connected') else '未连接'}\")\n",
    "    print(f\"{server}工具：{status.get('tools')}\")\n",
    "print(json.dumps(mcp_status, indent=4, ensure_ascii=False))"
   ]
  },
  {
   "cell_type": "markdown",
   "id": "2fe55bf7",
   "metadata": {},
   "source": [
    "#### （7）获取mcp工具参数"
   ]
  },
  {
   "cell_type": "code",
   "execution_count": null,
   "id": "ed69f5bd",
   "metadata": {},
   "outputs": [],
   "source": [
    "mcp_tools = mag.get_tools()\n",
    "print(json.dumps(mcp_tools, indent=2, ensure_ascii=False))"
   ]
  },
  {
   "cell_type": "markdown",
   "id": "9f21e14c",
   "metadata": {},
   "source": [
    "## 图管理"
   ]
  },
  {
   "cell_type": "markdown",
   "id": "900ad5dd",
   "metadata": {},
   "source": [
    "#### （1）导入一个图"
   ]
  },
  {
   "cell_type": "code",
   "execution_count": null,
   "id": "1bbf6bbf",
   "metadata": {},
   "outputs": [],
   "source": [
    "# 从包导入\n",
    "graph = mag.import_graph(\"easy_search.zip\")\n",
    "print(json.dumps(graph, indent=2, ensure_ascii=False))\n",
    "\n",
    "# 从config导入\n",
    "graph = mag.import_graph(r\"news_processing_workflow.json\")\n",
    "print(json.dumps(graph, indent=2, ensure_ascii=False))"
   ]
  },
  {
   "cell_type": "markdown",
   "id": "f5916e6c",
   "metadata": {},
   "source": [
    "#### （2）导出一个图"
   ]
  },
  {
   "cell_type": "code",
   "execution_count": null,
   "id": "b031246e",
   "metadata": {},
   "outputs": [
    {
     "name": "stdout",
     "output_type": "stream",
     "text": [
      "{\n",
      "  \"status\": \"success\",\n",
      "  \"message\": \"图 'easy_search' 导出成功\",\n",
      "  \"file_path\": \"C:\\\\Users\\\\keta\\\\.mag\\\\exports\\\\easy_search.zip\"\n",
      "}\n"
     ]
    }
   ],
   "source": [
    "graph = mag.export_graph(\"news_processing_workflow\")\n",
    "print(json.dumps(graph, indent=2, ensure_ascii=False))"
   ]
  },
  {
   "cell_type": "markdown",
   "id": "d73d6a3a",
   "metadata": {},
   "source": [
    "#### （3）列出所有图"
   ]
  },
  {
   "cell_type": "code",
   "execution_count": null,
   "id": "e830ded3",
   "metadata": {},
   "outputs": [],
   "source": [
    "print(\"\\n列出所有图:\")\n",
    "graphs = mag.list_graphs()\n",
    "print(f\"找到 {len(graphs)} 个图: {graphs}\")"
   ]
  },
  {
   "cell_type": "markdown",
   "id": "c0b082d3",
   "metadata": {},
   "source": [
    "#### （4）查看一个图配置文件"
   ]
  },
  {
   "cell_type": "code",
   "execution_count": null,
   "id": "de03f83a",
   "metadata": {},
   "outputs": [],
   "source": [
    "result = mag.get_graph('news_processing_workflow')\n",
    "print(json.dumps(result, indent=2, ensure_ascii=False))"
   ]
  },
  {
   "cell_type": "markdown",
   "id": "0a8d87a4",
   "metadata": {},
   "source": [
    "#### （5）绘图"
   ]
  },
  {
   "cell_type": "code",
   "execution_count": null,
   "id": "028f4f74",
   "metadata": {},
   "outputs": [],
   "source": [
    "graph_detail = mag.get_graph_detail(\"news_processing_workflow\")\n",
    "\n",
    "# 渲染README\n",
    "if graph_detail['readme']:\n",
    "    display(Markdown(graph_detail['readme']))\n",
    "else:\n",
    "    print(\"未找到README文件\")"
   ]
  },
  {
   "cell_type": "markdown",
   "id": "dfedf1d5",
   "metadata": {},
   "source": [
    "#### （6）将图导出为mcp server 脚本"
   ]
  },
  {
   "cell_type": "code",
   "execution_count": null,
   "id": "70899bcb",
   "metadata": {},
   "outputs": [],
   "source": [
    "mcp = mag.generate_mcp_script(\"news_processing_workflow\")\n",
    "# 保存并行执行脚本\n",
    "with open(\"news_workflow_parallel.py\", \"w\", encoding=\"utf-8\") as f:\n",
    "    f.write(mcp[\"parallel_script\"])\n",
    "\n",
    "# 保存顺序执行脚本\n",
    "with open(\"news_workflow_sequential.py\", \"w\", encoding=\"utf-8\") as f:\n",
    "    f.write(mcp[\"sequential_script\"])"
   ]
  },
  {
   "cell_type": "markdown",
   "id": "bd950d3c",
   "metadata": {},
   "source": [
    "#### （7） 运行图"
   ]
  },
  {
   "cell_type": "code",
   "execution_count": null,
   "id": "248c360f",
   "metadata": {},
   "outputs": [],
   "source": [
    "result = mag.run(\"news_processing_workflow\",input_text=\".\",parallel=False)\n",
    "print(result)"
   ]
  },
  {
   "cell_type": "markdown",
   "id": "c6ad8eb6",
   "metadata": {},
   "source": [
    "## 对话管理"
   ]
  },
  {
   "cell_type": "markdown",
   "id": "4134fb4f",
   "metadata": {},
   "source": [
    "#### (1)列出所有对话"
   ]
  },
  {
   "cell_type": "code",
   "execution_count": null,
   "id": "e3fbcee3",
   "metadata": {},
   "outputs": [],
   "source": [
    "result = mag.list_conversations()\n",
    "result"
   ]
  },
  {
   "cell_type": "markdown",
   "id": "da040366",
   "metadata": {},
   "source": [
    "#### (2)获取对话结果"
   ]
  },
  {
   "cell_type": "code",
   "execution_count": null,
   "id": "3bb3eca9",
   "metadata": {},
   "outputs": [],
   "source": [
    "result = mag.get_conversation('')\n",
    "display(Markdown(result.get(\"output\")))"
   ]
  },
  {
   "cell_type": "code",
   "execution_count": null,
   "id": "3b76ce62",
   "metadata": {},
   "outputs": [],
   "source": [
    "attactments = result.get(\"attachments\")\n",
    "print(json.dumps(attactments, indent=2, ensure_ascii=False))"
   ]
  },
  {
   "cell_type": "code",
   "execution_count": null,
   "id": "3d0e55c4",
   "metadata": {},
   "outputs": [],
   "source": [
    "def display_attachments(attachments):\n",
    "    \"\"\"\n",
    "    显示附件内容，支持md、html文件,这里只提供demo，运行时产生其他扩展文件请自行设计。或直接前往目录查看。\n",
    "    使用notebook的markdown进行展示\n",
    "    \n",
    "    参数:\n",
    "    attachments - 附件列表\n",
    "    \"\"\"\n",
    "    if not attachments:\n",
    "        print(\"没有可显示的附件\")\n",
    "        return\n",
    "    \n",
    "    for attachment in attachments:\n",
    "        file_type = attachment[\"type\"].lower()\n",
    "        file_path = attachment[\"path\"]\n",
    "        file_name = attachment[\"name\"]\n",
    "        \n",
    "        # 跳过不支持的文件类型\n",
    "        if file_type not in [\"md\", \"html\", \"docx\", \"pdf\"]:\n",
    "            continue\n",
    "            \n",
    "        print(f\"\\n📄 {file_name} ({file_type.upper()}):\")\n",
    "        \n",
    "        try:\n",
    "            # Markdown文件 - 使用IPython的Markdown显示\n",
    "            if file_type == \"md\":\n",
    "                with open(file_path, 'r', encoding='utf-8') as f:\n",
    "                    md_content = f.read()\n",
    "                display(Markdown(md_content))\n",
    "                \n",
    "            # HTML文件 - 使用IPython的HTML显示，或在浏览器中打开\n",
    "            elif file_type == \"html\":\n",
    "                try:\n",
    "                    webbrowser.open(file_path)\n",
    "                except:\n",
    "                    print(f\"已在浏览器中打开 HTML 文件\")\n",
    "                \n",
    "        except Exception as e:\n",
    "            print(f\"无法显示文件 {file_name}: {str(e)}\")\n",
    "\n",
    "display_attachments(attactments)"
   ]
  }
 ],
 "metadata": {
  "kernelspec": {
   "display_name": "pachong",
   "language": "python",
   "name": "python3"
  },
  "language_info": {
   "codemirror_mode": {
    "name": "ipython",
    "version": 3
   },
   "file_extension": ".py",
   "mimetype": "text/x-python",
   "name": "python",
   "nbconvert_exporter": "python",
   "pygments_lexer": "ipython3",
   "version": "3.11.8"
  }
 },
 "nbformat": 4,
 "nbformat_minor": 5
}
