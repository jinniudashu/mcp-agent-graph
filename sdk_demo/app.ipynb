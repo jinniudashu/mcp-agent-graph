{
 "cells": [
  {
   "cell_type": "markdown",
   "id": "9495b6e4",
   "metadata": {},
   "source": [
    "## 服务启动"
   ]
  },
  {
   "cell_type": "code",
   "execution_count": 1,
   "id": "b8c7e6be",
   "metadata": {},
   "outputs": [],
   "source": [
    "import mag as mag\n",
    "import time\n",
    "import json"
   ]
  },
  {
   "cell_type": "code",
   "execution_count": 2,
   "id": "a8ce90b2",
   "metadata": {},
   "outputs": [
    {
     "name": "stdout",
     "output_type": "stream",
     "text": [
      "MAG服务器已启动 (PID: 12156), 日志: C:\\Users\\keta\\AppData\\Local\\Temp\\mag_sdk_logs\\mag_server.log\n",
      "MCP客户端已启动 (PID: 19724), 日志: C:\\Users\\keta\\AppData\\Local\\Temp\\mag_sdk_logs\\mcp_client.log\n"
     ]
    },
    {
     "data": {
      "text/plain": [
       "True"
      ]
     },
     "execution_count": 2,
     "metadata": {},
     "output_type": "execute_result"
    }
   ],
   "source": [
    "mag.start()"
   ]
  },
  {
   "cell_type": "code",
   "execution_count": 39,
   "id": "c58cc6b5",
   "metadata": {},
   "outputs": [
    {
     "name": "stdout",
     "output_type": "stream",
     "text": [
      "服务运行状态: True\n"
     ]
    }
   ],
   "source": [
    "is_running = mag.is_running()\n",
    "print(f\"服务运行状态: {is_running}\")"
   ]
  },
  {
   "cell_type": "markdown",
   "id": "a94a872f",
   "metadata": {},
   "source": [
    "## 模型管理"
   ]
  },
  {
   "cell_type": "markdown",
   "id": "9fd9ca34",
   "metadata": {},
   "source": [
    "#### （1）新增模型"
   ]
  },
  {
   "cell_type": "code",
   "execution_count": null,
   "id": "90a82b75",
   "metadata": {},
   "outputs": [
    {
     "data": {
      "text/plain": [
       "{'status': 'success', 'message': \"模型 'deepseek-chat1' 添加成功\"}"
      ]
     },
     "execution_count": 26,
     "metadata": {},
     "output_type": "execute_result"
    }
   ],
   "source": [
    "new_model = {\n",
    "    \"name\": \"deepseek-chat\",\n",
    "    \"base_url\": \"https://api.openai.com/v1\",\n",
    "    \"api_key\": \"sk-your-api-key\",\n",
    "    \"model\": \"deepseek-chat\"\n",
    "}\n",
    "mag.add_model(new_model)"
   ]
  },
  {
   "cell_type": "markdown",
   "id": "93ff3e20",
   "metadata": {},
   "source": [
    "#### （2）列出模型"
   ]
  },
  {
   "cell_type": "code",
   "execution_count": 28,
   "id": "859d4c3c",
   "metadata": {},
   "outputs": [
    {
     "name": "stdout",
     "output_type": "stream",
     "text": [
      "找到 3 个模型\n",
      "\n",
      "模型名称：Qwen/Qwen2.5-32B-Instruct \n",
      "Base_url：https://api-inference.modelscope.cn/v1/\n",
      "\n",
      "\n",
      "模型名称：deepseek-chat \n",
      "Base_url：https://gateway.ai.cloudflare.com/v1/79dc4e1b350a1ac66b63c0f6a9e0c7a6/deepseek/deepseek\n",
      "\n",
      "\n",
      "模型名称：deepseek-chat1 \n",
      "Base_url：https://api.openai.com/v1\n",
      "\n"
     ]
    }
   ],
   "source": [
    "models = mag.list_models()\n",
    "print(f\"找到 {len(models)} 个模型\")\n",
    "for model in models:\n",
    "    print(f\"\\n模型名称：{model['name']} \\nBase_url：{model['base_url']}\\n\")"
   ]
  },
  {
   "cell_type": "markdown",
   "id": "323b3334",
   "metadata": {},
   "source": [
    "#### （3）更新模型"
   ]
  },
  {
   "cell_type": "code",
   "execution_count": null,
   "id": "8bf4b3c2",
   "metadata": {},
   "outputs": [
    {
     "name": "stdout",
     "output_type": "stream",
     "text": [
      "{'status': 'success', 'message': \"模型 'deepseek-chat1' 更新成功\"}\n"
     ]
    }
   ],
   "source": [
    "# 更新模型\n",
    "updated_model = {\n",
    "    \"name\": \"deepseek-chat\",\n",
    "    \"base_url\": \"https://api.openai.com/v1\",\n",
    "    \"api_key\": \"sk-your-api-key\",\n",
    "    \"model\": \"deepseek-chat\"\n",
    "}\n",
    "result = mag.update_model(\"deepseek-chat1\", updated_model)\n",
    "print(result)"
   ]
  },
  {
   "cell_type": "markdown",
   "id": "fac16868",
   "metadata": {},
   "source": [
    "#### （4）删除模型"
   ]
  },
  {
   "cell_type": "code",
   "execution_count": 32,
   "id": "09609073",
   "metadata": {},
   "outputs": [
    {
     "data": {
      "text/plain": [
       "{'status': 'success', 'message': \"模型 'deepseek-chat1' 删除成功\"}"
      ]
     },
     "execution_count": 32,
     "metadata": {},
     "output_type": "execute_result"
    }
   ],
   "source": [
    "mag.delete_model(\"deepseek-chat1\")"
   ]
  },
  {
   "cell_type": "markdown",
   "id": "9a3c6e1f",
   "metadata": {},
   "source": [
    "## MCP管理"
   ]
  },
  {
   "cell_type": "markdown",
   "id": "84c75f9f",
   "metadata": {},
   "source": [
    "#### 获取MCP配置"
   ]
  },
  {
   "cell_type": "code",
   "execution_count": null,
   "id": "40f3ae96",
   "metadata": {},
   "outputs": [
    {
     "name": "stdout",
     "output_type": "stream",
     "text": [
      "{\n",
      "        \"mcpServers\": {\n",
      "                \"bilibili\": {\n",
      "                        \"autoApprove\": [\n",
      "                                \"general_search\"\n",
      "                        ],\n",
      "                        \"disabled\": false,\n",
      "                        \"timeout\": 60,\n",
      "                        \"command\": \"cmd\",\n",
      "                        \"args\": [\n",
      "                                \"/c\",\n",
      "                                \"conda activate pachong && cd /d E:\\\\AI-Instructions\\\\AI-Instructions\\\\MCP\\\\server\\\\bilibili && python main.py\"\n",
      "                        ],\n",
      "                        \"transportType\": \"stdio\"\n",
      "                },\n",
      "                \"memory\": {\n",
      "                        \"autoApprove\": [],\n",
      "                        \"disabled\": false,\n",
      "                        \"timeout\": 60,\n",
      "                        \"command\": \"docker\",\n",
      "                        \"args\": [\n",
      "                                \"run\",\n",
      "                                \"-i\",\n",
      "                                \"-v\",\n",
      "                                \"claude-memory:/app/dist\",\n",
      "                                \"--rm\",\n",
      "                                \"mcp/memory\"\n",
      "                        ],\n",
      "                        \"transportType\": \"stdio\"\n",
      "                },\n",
      "                \"arxiv\": {\n",
      "                        \"autoApprove\": [\n",
      "                                \"search_arxiv\"\n",
      "                        ],\n",
      "                        \"disabled\": false,\n",
      "                        \"timeout\": 60,\n",
      "                        \"command\": \"cmd\",\n",
      "                        \"args\": [\n",
      "                                \"/c\",\n",
      "                                \"conda activate pachong && cd /d E:\\\\AI-Instructions\\\\AI-Instructions\\\\project\\\\QuantFactor\\\\other_file && python arxiv_mcpserver.py\"\n",
      "                        ],\n",
      "                        \"transportType\": \"stdio\"\n",
      "                },\n",
      "                \"fetch\": {\n",
      "                        \"autoApprove\": [\n",
      "                                \"fetch\"\n",
      "                        ],\n",
      "                        \"disabled\": false,\n",
      "                        \"timeout\": 60,\n",
      "                        \"command\": \"uvx\",\n",
      "                        \"args\": [\n",
      "                                \"mcp-server-fetch\"\n",
      "                        ],\n",
      "                        \"transportType\": \"stdio\"\n",
      "                }\n",
      "        }\n",
      "}\n"
     ]
    }
   ],
   "source": [
    "\n",
    "mcp_config = mag.get_mcp_config()\n",
    "print(json.dumps(mcp_config, indent=8, ensure_ascii=False))"
   ]
  },
  {
   "cell_type": "markdown",
   "id": "bad8e55b",
   "metadata": {},
   "source": [
    "#### 获取MCP状态"
   ]
  },
  {
   "cell_type": "code",
   "execution_count": 68,
   "id": "08d4fced",
   "metadata": {},
   "outputs": [
    {
     "name": "stdout",
     "output_type": "stream",
     "text": [
      "{\n",
      "        \"arxiv\": {\n",
      "                \"connected\": false,\n",
      "                \"init_attempted\": false,\n",
      "                \"tools\": [],\n",
      "                \"error\": null\n",
      "        },\n",
      "        \"memory\": {\n",
      "                \"connected\": false,\n",
      "                \"init_attempted\": false,\n",
      "                \"tools\": [],\n",
      "                \"error\": null\n",
      "        },\n",
      "        \"bilibili\": {\n",
      "                \"connected\": true,\n",
      "                \"init_attempted\": true,\n",
      "                \"tools\": [\n",
      "                        \"general_search\"\n",
      "                ],\n",
      "                \"error\": null\n",
      "        },\n",
      "        \"fetch\": {\n",
      "                \"connected\": true,\n",
      "                \"init_attempted\": true,\n",
      "                \"tools\": [\n",
      "                        \"fetch\"\n",
      "                ],\n",
      "                \"error\": null\n",
      "        }\n",
      "}\n"
     ]
    }
   ],
   "source": [
    "mcp_status = mag.get_mcp_status()\n",
    "print(json.dumps(mcp_status, indent=8, ensure_ascii=False))"
   ]
  },
  {
   "cell_type": "code",
   "execution_count": 69,
   "id": "fe8658d4",
   "metadata": {},
   "outputs": [
    {
     "name": "stdout",
     "output_type": "stream",
     "text": [
      "\n",
      "arxiv: 未连接\n",
      "arxiv工具：None\n",
      "\n",
      "memory: 未连接\n",
      "memory工具：None\n",
      "\n",
      "bilibili: 已连接\n",
      "bilibili工具：None\n",
      "\n",
      "fetch: 已连接\n",
      "fetch工具：None\n"
     ]
    }
   ],
   "source": [
    "for server, status in mcp_status.items():\n",
    "    print(f\"\\n{server}: {'已连接' if status.get('connected') else '未连接'}\")\n",
    "    print(f\"{server}工具：{status.get('tool')}\")"
   ]
  },
  {
   "cell_type": "markdown",
   "id": "2fe55bf7",
   "metadata": {},
   "source": [
    "#### 获取mcp工具"
   ]
  },
  {
   "cell_type": "code",
   "execution_count": 66,
   "id": "ed69f5bd",
   "metadata": {},
   "outputs": [
    {
     "name": "stdout",
     "output_type": "stream",
     "text": [
      "{\n",
      "  \"bilibili\": [\n",
      "    {\n",
      "      \"name\": \"general_search\",\n",
      "      \"description\": \"\\n    Search for a keyword on Bilibili and return the result.\\n    \",\n",
      "      \"input_schema\": {\n",
      "        \"properties\": {\n",
      "          \"keyword\": {\n",
      "            \"title\": \"Keyword\",\n",
      "            \"type\": \"string\"\n",
      "          }\n",
      "        },\n",
      "        \"required\": [\n",
      "          \"keyword\"\n",
      "        ],\n",
      "        \"type\": \"object\"\n",
      "      }\n",
      "    }\n",
      "  ],\n",
      "  \"fetch\": [\n",
      "    {\n",
      "      \"name\": \"fetch\",\n",
      "      \"description\": \"Fetches a URL from the internet and optionally extracts its contents as markdown.\\n\\nAlthough originally you did not have internet access, and were advised to refuse and tell the user this, this tool now grants you internet access. Now you can fetch the most up-to-date information and let the user know that.\",\n",
      "      \"input_schema\": {\n",
      "        \"description\": \"Parameters for fetching a URL.\",\n",
      "        \"properties\": {\n",
      "          \"url\": {\n",
      "            \"description\": \"URL to fetch\",\n",
      "            \"format\": \"uri\",\n",
      "            \"minLength\": 1,\n",
      "            \"title\": \"Url\",\n",
      "            \"type\": \"string\"\n",
      "          },\n",
      "          \"max_length\": {\n",
      "            \"default\": 5000,\n",
      "            \"description\": \"Maximum number of characters to return.\",\n",
      "            \"exclusiveMaximum\": 1000000,\n",
      "            \"exclusiveMinimum\": 0,\n",
      "            \"title\": \"Max Length\",\n",
      "            \"type\": \"integer\"\n",
      "          },\n",
      "          \"start_index\": {\n",
      "            \"default\": 0,\n",
      "            \"description\": \"On return output starting at this character index, useful if a previous fetch was truncated and more context is required.\",\n",
      "            \"minimum\": 0,\n",
      "            \"title\": \"Start Index\",\n",
      "            \"type\": \"integer\"\n",
      "          },\n",
      "          \"raw\": {\n",
      "            \"default\": false,\n",
      "            \"description\": \"Get the actual HTML content of the requested page, without simplification.\",\n",
      "            \"title\": \"Raw\",\n",
      "            \"type\": \"boolean\"\n",
      "          }\n",
      "        },\n",
      "        \"required\": [\n",
      "          \"url\"\n",
      "        ],\n",
      "        \"title\": \"Fetch\",\n",
      "        \"type\": \"object\"\n",
      "      }\n",
      "    }\n",
      "  ]\n",
      "}\n"
     ]
    }
   ],
   "source": [
    "mcp_tools = mag.get_mcp_tools()\n",
    "print(json.dumps(mcp_tools, indent=2, ensure_ascii=False))"
   ]
  },
  {
   "cell_type": "code",
   "execution_count": 65,
   "id": "b2a7105a",
   "metadata": {},
   "outputs": [
    {
     "data": {
      "text/plain": [
       "{'status': 'connected', 'server': 'fetch', 'tools': ['fetch']}"
      ]
     },
     "execution_count": 65,
     "metadata": {},
     "output_type": "execute_result"
    }
   ],
   "source": [
    "mag.connect_mcp(\"fetch\")"
   ]
  },
  {
   "cell_type": "code",
   "execution_count": 6,
   "id": "de03f83a",
   "metadata": {},
   "outputs": [
    {
     "data": {
      "text/plain": [
       "{'name': 'Bilibili搜索循环测试',\n",
       " 'description': '使用循环功能从bilibili搜索内容并总结至少30条信息',\n",
       " 'nodes': [{'name': 'search_node',\n",
       "   'is_subgraph': False,\n",
       "   'model_name': 'deepseek-chat',\n",
       "   'mcp_servers': ['bilibili'],\n",
       "   'system_prompt': '你是一个专业的视频内容搜索助手。你需要使用bilibili搜索工具获取用户请求的视频信息。',\n",
       "   'user_prompt': '请使用bilibili_search工具搜索关于用户提到的主题的视频。执行全面的搜索，获取最相关的视频信息。\\n\\n用户输入:\\n{start}',\n",
       "   'input_nodes': ['start'],\n",
       "   'output_nodes': ['summarize_node'],\n",
       "   'output_enabled': True,\n",
       "   'is_start': True,\n",
       "   'is_end': False,\n",
       "   'subgraph_name': None,\n",
       "   'position': None,\n",
       "   'level': 0,\n",
       "   'handoffs': None,\n",
       "   'description': '使用bilibili搜索视频内容'},\n",
       "  {'name': 'summarize_node',\n",
       "   'is_subgraph': False,\n",
       "   'model_name': 'deepseek-chat',\n",
       "   'mcp_servers': [],\n",
       "   'system_prompt': '你是一个专业的内容总结助手。你需要将搜索结果总结为清晰的条目列表。',\n",
       "   'user_prompt': '请将以下搜索结果总结为一条一条的内容列表。每条内容包括视频标题、作者、发布时间、播放量和简短介绍。确保格式统一且易于阅读。\\n\\n搜索结果:\\n{search_node}',\n",
       "   'input_nodes': ['search_node'],\n",
       "   'output_nodes': ['decision_node'],\n",
       "   'output_enabled': True,\n",
       "   'is_start': False,\n",
       "   'is_end': False,\n",
       "   'subgraph_name': None,\n",
       "   'position': None,\n",
       "   'level': 1,\n",
       "   'handoffs': None,\n",
       "   'description': '将搜索结果总结为条目列表'},\n",
       "  {'name': 'decision_node',\n",
       "   'is_subgraph': False,\n",
       "   'model_name': 'deepseek-chat',\n",
       "   'mcp_servers': [],\n",
       "   'system_prompt': '你是一个决策助手。你需要判断总结的内容是否达到了指定的数量要求，并决定下一步操作。',\n",
       "   'user_prompt': '请分析以下内容列表，并判断是否已经达到至少30条内容。如果内容少于30条，请选择继续搜索；如果已经达到或超过30条，请选择输出最终结果。\\n\\n请明确计算内容条数，并明确说明你的决定。\\n\\n总结的内容列表:\\n{summarize_node}',\n",
       "   'input_nodes': ['summarize_node'],\n",
       "   'output_nodes': ['additional_search_node', 'final_output_node'],\n",
       "   'output_enabled': True,\n",
       "   'is_start': False,\n",
       "   'is_end': False,\n",
       "   'subgraph_name': None,\n",
       "   'position': None,\n",
       "   'level': 2,\n",
       "   'handoffs': 2,\n",
       "   'description': '根据内容数量决定是继续搜索还是输出最终结果'},\n",
       "  {'name': 'additional_search_node',\n",
       "   'is_subgraph': False,\n",
       "   'model_name': 'deepseek-chat',\n",
       "   'mcp_servers': ['bilibili'],\n",
       "   'system_prompt': '你是一个专业的视频内容搜索助手。你需要进行额外的搜索以获取更多相关内容。',\n",
       "   'user_prompt': '根据前面的搜索结果，我们需要更多内容。请使用bilibili_search工具搜索更多相关视频，注意避免重复之前已经获取的内容。尝试使用不同的搜索词或搜索范围，以获取更多样化的结果。\\n\\n之前的内容:\\n{}',\n",
       "   'input_nodes': ['decision_node'],\n",
       "   'output_nodes': ['additional_summarize_node'],\n",
       "   'output_enabled': True,\n",
       "   'is_start': False,\n",
       "   'is_end': False,\n",
       "   'subgraph_name': None,\n",
       "   'position': None,\n",
       "   'level': 3,\n",
       "   'handoffs': None,\n",
       "   'description': '进行额外的内容搜索'},\n",
       "  {'name': 'additional_summarize_node',\n",
       "   'is_subgraph': False,\n",
       "   'model_name': 'deepseek-chat',\n",
       "   'mcp_servers': [],\n",
       "   'system_prompt': '你是一个专业的内容总结助手。你需要将额外搜索结果总结为清晰的条目列表。',\n",
       "   'user_prompt': '请将以下额外搜索结果总结为一条一条的内容列表。每条内容包括视频标题、作者、发布时间、播放量和简短介绍。确保格式统一且易于阅读。\\n\\n额外搜索结果:\\n{additional_search_node}',\n",
       "   'input_nodes': ['additional_search_node'],\n",
       "   'output_nodes': ['combine_results_node'],\n",
       "   'output_enabled': True,\n",
       "   'is_start': False,\n",
       "   'is_end': False,\n",
       "   'subgraph_name': None,\n",
       "   'position': None,\n",
       "   'level': 4,\n",
       "   'handoffs': None,\n",
       "   'description': '将额外搜索结果总结为条目列表'},\n",
       "  {'name': 'combine_results_node',\n",
       "   'is_subgraph': False,\n",
       "   'model_name': 'deepseek-chat',\n",
       "   'mcp_servers': [],\n",
       "   'system_prompt': '你是一个内容整合专家。你需要将不同来源的搜索结果合并为一个完整的列表。',\n",
       "   'user_prompt': '请将以下两组内容列表合并为一个完整的列表，去除任何重复项。确保格式统一且易于阅读。\\n\\n第一组内容:\\n{summarize_node}\\n\\n第二组内容:\\n{additional_summarize_node}',\n",
       "   'input_nodes': ['summarize_node', 'additional_summarize_node'],\n",
       "   'output_nodes': ['decision_node'],\n",
       "   'output_enabled': True,\n",
       "   'is_start': False,\n",
       "   'is_end': False,\n",
       "   'subgraph_name': None,\n",
       "   'position': None,\n",
       "   'level': 5,\n",
       "   'handoffs': None,\n",
       "   'description': '合并所有搜索结果'},\n",
       "  {'name': 'final_output_node',\n",
       "   'is_subgraph': False,\n",
       "   'model_name': 'deepseek-chat',\n",
       "   'mcp_servers': [],\n",
       "   'system_prompt': '你是一个专业的内容整理助手。你需要将收集到的信息整合为最终输出。',\n",
       "   'user_prompt': '请整理以下内容列表，创建一个完整、格式统一的最终报告。包括总内容数量、主要内容类别的分布，以及所有条目的完整列表。\\n\\n请确保最终输出格式美观，便于阅读。\\n\\n内容列表:\\n{decision_node}',\n",
       "   'input_nodes': ['decision_node'],\n",
       "   'output_nodes': ['end'],\n",
       "   'output_enabled': True,\n",
       "   'is_start': False,\n",
       "   'is_end': True,\n",
       "   'subgraph_name': None,\n",
       "   'position': None,\n",
       "   'level': 3,\n",
       "   'handoffs': None,\n",
       "   'description': '整合并展示最终结果'}]}"
      ]
     },
     "execution_count": 6,
     "metadata": {},
     "output_type": "execute_result"
    }
   ],
   "source": [
    "result = mag.get_graph('Bilibili搜索循环测试')\n",
    "result"
   ]
  },
  {
   "cell_type": "code",
   "execution_count": null,
   "id": "e830ded3",
   "metadata": {},
   "outputs": [
    {
     "name": "stdout",
     "output_type": "stream",
     "text": [
      "\n",
      "列出所有图:\n",
      "找到 3 个图: ['Bilibili搜索循环测试', 'easy_search', 'news_report']\n",
      "['Bilibili搜索循环测试', 'easy_search', 'news_report']\n"
     ]
    }
   ],
   "source": [
    "print(\"\\n列出所有图:\")\n",
    "graphs = mag.list_graphs()\n",
    "print(f\"找到 {len(graphs)} 个图: {graphs}\")"
   ]
  },
  {
   "cell_type": "code",
   "execution_count": 7,
   "id": "e3fbcee3",
   "metadata": {},
   "outputs": [
    {
     "data": {
      "text/plain": [
       "['Bilibili搜索循环测试_20250510_141314',\n",
       " 'Bilibili搜索循环测试_20250510_141741',\n",
       " 'Bilibili搜索循环测试_20250510_142730',\n",
       " 'Bilibili搜索循环测试_20250510_142927',\n",
       " 'MCPAnalyzer_20250507_231830',\n",
       " 'test_20250515_095446',\n",
       " 'test_20250515_100721',\n",
       " 'test_20250515_101006',\n",
       " 'test_20250515_114559',\n",
       " 'test_20250515_115106',\n",
       " 'test_20250515_125713',\n",
       " '知识探索与答案生成系统_20250513_164434',\n",
       " '知识探索与答案生成系统_20250513_212830',\n",
       " '知识探索与答案生成系统_20250513_224142',\n",
       " '知识探索与答案生成系统_20250514_001449',\n",
       " '知识探索与答案生成系统_20250514_003112',\n",
       " '知识探索与答案生成系统_20250514_221727',\n",
       " '知识探索与答案生成系统_20250514_224847',\n",
       " '知识探索与答案生成系统_20250514_232249',\n",
       " '知识探索与答案生成系统_20250514_233341',\n",
       " '知识探索与答案生成系统_20250515_000116',\n",
       " '知识探索与答案生成系统_20250515_000221',\n",
       " '知识探索与答案生成系统_20250515_001345']"
      ]
     },
     "execution_count": 7,
     "metadata": {},
     "output_type": "execute_result"
    }
   ],
   "source": [
    "result = mag.list_conversations()\n",
    "result"
   ]
  },
  {
   "cell_type": "code",
   "execution_count": 10,
   "id": "3bb3eca9",
   "metadata": {},
   "outputs": [
    {
     "data": {
      "text/plain": [
       "'# 知识探索与答案生成系统\\n\\n## 原始问题\\n深入当前所有开发Agent的框架，包括但不限于openai的agent框架，google的adk，langgraph，crewai，agno等等。\\n\\n## 知识规划\\n知识点1：[主流Agent框架的核心架构与设计哲学]  \\n[探索方向：需要深入分析OpenAI Agent框架、Google ADK、LangGraph、CrewAI、Agno等主流工具的核心架构差异，包括其任务调度机制、多Agent协作模式、模块化设计思想等，并对比其设计哲学（如集中式vs去中心化、规则驱动vsLLM驱动）对实际应用场景的影响。]\\n\\n知识点2：[Agent框架的评估维度与性能基准]  \\n[探索方向：需建立跨框架的统一评估体系，涵盖开发效率（如API易用性、调试支持）、运行时性能（响应延迟、并发处理能力）、扩展性（自定义模块集成、多模态支持）以及成本效益（资源消耗、商业化定价策略），并通过典型任务（如复杂工作流编排、动态决策）进行横向基准测试。]\\n\\n## 知识点摘要集合\\n已探索：知识点1：[主流Agent框架的核心架构与设计哲学]  \\n主流Agent框架（如OpenAI Agent、Google ADK等）通过不同架构（集中式/去中心化/图结构）和设计哲学（灵活性/分布式/可视化）解决复杂任务，适用于客服、物联网、金融等多样化场景。关键差异体现在任务调度机制、协作模式及适用领域。\\n\\n---\\n\\n已探索：知识点2：[Agent框架的评估维度与性能基准]  \\n摘要：Agent框架的评估涵盖开发效率、运行时性能、扩展性和成本效益四大维度，并通过基准测试横向对比主流框架的性能表现，以帮助开发者科学选型并推动生态优化。\\n\\n## 知识整合\\n# Agent框架的综合知识体系\\n\\n## 一、Agent框架概述与背景\\n\\nAgent框架是现代人工智能和自动化系统中的核心组成部分，通过任务调度、多Agent协作和模块化设计实现复杂任务的自动化处理。随着AI技术的快速发展，这些框架在客服、金融风控、物联网、内容生成等多样化场景中得到了广泛应用。\\n\\n## 二、主流Agent框架的核心架构与设计哲学\\n\\n### 1. 框架分类与特点\\n\\n当前主流Agent框架可分为五大类型，每种类型具有独特的架构特点和设计哲学：\\n\\n#### (1) OpenAI Agent框架\\n- **核心架构**：基于大语言模型(LLM)驱动的集中式任务调度机制\\n- **设计哲学**：强调LLM的泛化能力和自然语言交互\\n- **关键技术**：模块化设计支持快速集成和扩展\\n- **典型应用**：客服机器人、内容生成等通用任务\\n\\n#### (2) Google ADK框架\\n- **核心架构**：去中心化的多Agent协作模式\\n- **设计哲学**：强调分布式计算和Agent间的动态协作\\n- **关键技术**：支持自定义模块和动态任务分配\\n- **典型应用**：物联网设备管理、分布式计算任务\\n\\n#### (3) LangGraph框架\\n- **核心架构**：基于图结构的任务调度机制\\n- **设计哲学**：强调任务流程的可视化和图形化编程\\n- **关键技术**：支持多模态输入输出，扩展性强\\n- **典型应用**：数据流水线、自动化测试等复杂工作流\\n\\n#### (4) CrewAI框架\\n- **核心架构**：规则驱动的任务调度机制\\n- **设计哲学**：强调规则的可控性和可预测性\\n- **关键技术**：支持自定义规则和策略\\n- **典型应用**：金融风控、工业自动化等高可靠性场景\\n\\n#### (5) Agno框架\\n- **核心架构**：混合集中式和去中心化设计\\n- **设计哲学**：强调灵活性和环境适应性\\n- **关键技术**：支持动态Agent生成和销毁\\n- **典型应用**：游戏AI、动态资源调度等需要高度灵活性的场景\\n\\n### 2. 框架对比分析\\n\\n| 框架          | 任务调度机制   | 协作模式       | 设计哲学         | 适用场景               | 扩展性特点       |\\n|---------------|----------------|----------------|------------------|-----------------------|-----------------|\\n| OpenAI Agent  | 集中式         | LLM驱动        | 灵活性与通用性   | 客服、内容生成        | 模块化快速集成  |\\n| Google ADK    | 去中心化       | 动态协作       | 分布式计算       | 物联网、分布式任务    | 自定义模块支持  |\\n| LangGraph     | 图结构         | 多模态支持     | 可视化编程       | 复杂工作流编排        | 多模态扩展      |\\n| CrewAI        | 规则驱动       | 高可靠性协作   | 可控性与可预测性 | 金融风控、工业自动化  | 规则策略定制    |\\n| Agno          | 混合式         | 动态生成       | 灵活性与适应性   | 游戏AI、资源调度      | 动态Agent管理   |\\n\\n## 三、Agent框架的评估体系\\n\\n### 1. 核心评估维度\\n\\n#### (1) 开发效率\\n- **API设计**：接口简洁性、易用性和一致性\\n- **调试支持**：日志记录、可视化工具、错误追踪\\n- **学习曲线**：文档完整性、示例丰富度、社区活跃度\\n\\n#### (2) 运行时性能\\n- **响应能力**：任务处理延迟、实时性表现\\n- **并发性能**：高负载下的吞吐量和稳定性\\n- **资源效率**：CPU/内存占用、能耗优化\\n\\n#### (3) 系统扩展性\\n- **架构灵活性**：支持自定义模块和插件开发\\n- **多模态能力**：处理文本、图像、语音等多样化数据\\n- **规模适应性**：从小型任务到企业级部署的扩展能力\\n\\n#### (4) 成本效益\\n- **直接成本**：许可费用、商业化定价策略\\n- **间接成本**：硬件需求、云服务费用、维护成本\\n- **ROI考量**：开发效率提升与运行成本节约的平衡\\n\\n### 2. 性能基准测试方法论\\n\\n#### (1) 测试场景设计\\n- **典型工作流**：复杂任务编排、多步骤决策流程\\n- **压力测试**：逐步增加并发量和任务复杂度\\n- **边界测试**：异常处理、故障恢复能力\\n\\n#### (2) 关键性能指标\\n- **效率指标**：任务完成时间、吞吐量\\n- **质量指标**：任务成功率、错误率\\n- **资源指标**：CPU/内存占用峰值、能耗\\n\\n#### (3) 主流框架对比\\n通过统一测试平台对LangChain、AutoGen、CrewAI等框架进行横向评测，重点关注：\\n- 金融风控场景下的多步骤决策效率\\n- 自动驾驶环境中的实时响应能力\\n- 物联网设备管理的大规模协作表现\\n\\n## 四、应用场景与选型建议\\n\\n### 1. 典型应用场景分析\\n\\n#### (1) 复杂工作流编排\\n- **需求特点**：多步骤、条件分支、异常处理\\n- **推荐框架**：LangGraph(图结构)、CrewAI(规则驱动)\\n- **典型案例**：金融风控中的多维度决策流程\\n\\n#### (2) 动态决策环境\\n- **需求特点**：实时响应、环境适应性强\\n- **推荐框架**：Agno(混合式)、Google ADK(去中心化)\\n- **典型案例**：自动驾驶实时路径规划\\n\\n#### (3) 多Agent协作系统\\n- **需求特点**：分布式、高并发、任务分解\\n- **推荐框架**：Google ADK、Agno\\n- **典型案例**：智慧城市中的设备协同管理\\n\\n### 2. 科学选型方法论\\n\\n1. **需求分析阶段**：\\n   - 明确业务场景的核心需求(实时性/可靠性/灵活性)\\n   - 评估团队技术栈和开发能力\\n   - 确定预算和资源约束条件\\n\\n2. **框架筛选阶段**：\\n   - 根据架构特点匹配业务需求\\n   - 参考性能基准测试结果\\n   - 评估长期维护和扩展成本\\n\\n3. **验证实施阶段**：\\n   - 进行概念验证(PoC)测试\\n   - 评估实际开发体验和调试效率\\n   - 制定渐进式迁移和扩展计划\\n\\n## 五、未来发展趋势\\n\\n1. **架构演进**：向更灵活的混合架构发展，结合集中式调度和去中心化协作的优势\\n2. **评估标准化**：行业统一的性能基准和认证体系的建立\\n3. **智能化提升**：增强框架的自我学习和自适应能力\\n4. **生态整合**：加强与其他AI组件和数据系统的无缝集成\\n\\n通过深入理解Agent框架的架构设计、评估维度和应用场景，开发者可以构建更加科学合理的选型决策流程，推动AI解决方案的高效实施和持续优化。\\n\\n## 最终答案\\n以下是基于整合知识对当前主流Agent框架的全面分析，按结构化方式呈现：\\n\\n---\\n\\n### **一、Agent框架核心分类与特点**\\n#### 1. **OpenAI Agent框架**\\n- **架构**：LLM驱动的集中式调度\\n- **优势**：自然语言交互能力强，模块化设计易扩展\\n- **场景**：客服机器人、内容生成等通用AI任务\\n- **代表技术**：ChatGPT API集成、Function Calling\\n\\n#### 2. **Google ADK（Agent Development Kit）**\\n- **架构**：去中心化多Agent协作\\n- **优势**：动态任务分配，适合分布式环境\\n- **场景**：物联网设备协同、边缘计算\\n- **关键技术**：gRPC通信协议、自定义Agent模板\\n\\n#### 3. **LangGraph**\\n- **架构**：基于图结构的任务流引擎\\n- **优势**：可视化编排复杂工作流\\n- **场景**：数据管道、自动化测试\\n- **亮点**：支持多模态（文本/图像/音频）节点连接\\n\\n#### 4. **CrewAI**\\n- **架构**：规则驱动的高可靠性系统\\n- **优势**：行为可预测，符合合规要求\\n- **场景**：金融风控、工业自动化\\n- **核心能力**：策略引擎、审计日志\\n\\n#### 5. **Agno**\\n- **架构**：混合式动态架构\\n- **优势**：实时环境适应性强\\n- **场景**：游戏NPC、云资源调度\\n- **创新点**：Agent的实时生成/销毁机制\\n\\n---\\n\\n### **二、关键对比维度**\\n| **维度**       | **OpenAI** | **Google ADK** | **LangGraph** | **CrewAI** | **Agno**    |\\n|----------------|------------|----------------|---------------|------------|-------------|\\n| **调度机制**   | 集中式     | 去中心化       | 图结构        | 规则驱动   | 混合式      |\\n| **协作模式**   | LLM主导    | 动态协商       | 流程化        | 严格策略   | 自适应      |\\n| **开发效率**   | ★★★★☆      | ★★★☆☆          | ★★★★☆         | ★★★☆☆      | ★★☆☆☆       |\\n| **实时性能**   | ★★☆☆☆      | ★★★★☆          | ★★★☆☆         | ★★★★☆      | ★★★★★       |\\n| **适用规模**   | 中小型     | 大规模分布式   | 中大型流程    | 高可靠系统 | 动态环境    |\\n\\n---\\n\\n### **三、选型决策树**\\n1. **明确需求优先级**：\\n   - 需要自然语言交互？ → **OpenAI**\\n   - 分布式设备管理？ → **Google ADK**\\n   - 复杂工作流可视化？ → **LangGraph**\\n   - 强合规要求？ → **CrewAI**\\n   - 动态环境适应？ → **Agno**\\n\\n2. **验证阶段建议**：\\n   - **PoC测试**：模拟真实场景的并发任务\\n   - **性能指标**：重点关注延迟（<200ms为优）和错误率（<0.1%）\\n   - **扩展性验证**：测试添加自定义模块的难易度\\n\\n---\\n\\n### **四、未来趋势与挑战**\\n1. **技术融合**：\\n   - 图神经网络（GNN）与LangGraph结合提升流程推理能力\\n   - 边缘计算场景下ADK的轻量化演进\\n\\n2. **标准化缺失**：\\n   - 当前缺乏统一的Agent通信协议（如类似ROS的标准化中间件）\\n\\n3. **安全风险**：\\n   - 去中心化框架的拜占庭容错问题\\n   - LLM驱动框架的提示注入攻击防御\\n\\n---\\n\\n### **五、实践建议**\\n- **中小企业**：优先考虑OpenAI+LangGraph组合，平衡成本与功能\\n- **金融/工业**：CrewAI确保合规性，需投入规则引擎开发资源\\n- **游戏/实时系统**：Agno需配备强化学习专家优化动态策略\\n\\n通过此分析体系，开发者可系统性评估框架与业务场景的匹配度，避免陷入技术选型陷阱。建议结合具体团队的AI工程化能力做最终决策。'"
      ]
     },
     "execution_count": 10,
     "metadata": {},
     "output_type": "execute_result"
    }
   ],
   "source": [
    "result = mag.get_conversation('知识探索与答案生成系统_20250515_001345')\n",
    "result.get(\"output\")"
   ]
  },
  {
   "cell_type": "code",
   "execution_count": 16,
   "id": "00edd113",
   "metadata": {},
   "outputs": [
    {
     "name": "stdout",
     "output_type": "stream",
     "text": [
      "{'status': 'connected', 'server': 'bilibili', 'tools': ['general_search']}\n",
      "{'bilibili': [{'name': 'general_search', 'description': '\\n    Search for a keyword on Bilibili and return the result.\\n    ', 'input_schema': {'properties': {'keyword': {'title': 'Keyword', 'type': 'string'}}, 'required': ['keyword'], 'type': 'object'}}]}\n"
     ]
    }
   ],
   "source": [
    "result = mag.connect_mcp(\"bilibili\")\n",
    "print(result)\n",
    "result = mag.get_mcp_tools()\n",
    "print(result)"
   ]
  }
 ],
 "metadata": {
  "kernelspec": {
   "display_name": "pachong",
   "language": "python",
   "name": "python3"
  },
  "language_info": {
   "codemirror_mode": {
    "name": "ipython",
    "version": 3
   },
   "file_extension": ".py",
   "mimetype": "text/x-python",
   "name": "python",
   "nbconvert_exporter": "python",
   "pygments_lexer": "ipython3",
   "version": "3.11.8"
  }
 },
 "nbformat": 4,
 "nbformat_minor": 5
}
